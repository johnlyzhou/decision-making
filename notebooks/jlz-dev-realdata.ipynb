{
 "cells": [
  {
   "cell_type": "code",
   "execution_count": 11,
   "id": "58a26460",
   "metadata": {},
   "outputs": [],
   "source": [
    "import sys \n",
    "sys.path.append(\"/Users/johnzhou/research/decision-making\")\n",
    "\n",
    "from src.data.experiments import Experiment\n",
    "from src.utils import build_config\n",
    "from src.data.real_datasets import DynamicForagingDataset\n",
    "import numpy as np\n",
    "from src.features.build_features import compute_foraging_efficiency\n",
    "from src.models.fit_curves import normalize_block_ala_le2022, average_blocks, sigmoid, driver_func, \\\n",
    "    pad_ragged_blocks\n",
    "from src.utils import blockify, build_config\n",
    "from scipy.optimize import minimize\n",
    "\n",
    "import matplotlib.pyplot as plt"
   ]
  },
  {
   "cell_type": "code",
   "execution_count": 41,
   "id": "09c4f80a",
   "metadata": {},
   "outputs": [],
   "source": [
    "def convert_real_blocks(real_blocks, real_correct_side):\n",
    "    real_blocks = np.array(real_blocks)\n",
    "    unique, counts = np.unique(real_blocks, return_counts=True)\n",
    "    blocks = []\n",
    "    if real_correct_side[0] == 1:\n",
    "        side = \"LEFT\"\n",
    "    else:\n",
    "        side = \"RIGHT\"\n",
    "    for num_trials in counts:\n",
    "        blocks.append((side, 1.0, num_trials))\n",
    "        if side == \"LEFT\":\n",
    "            side = \"RIGHT\"\n",
    "        else:\n",
    "            side = \"LEFT\"\n",
    "    return blocks\n",
    "\n",
    "def convert_real_actions(real_actions):\n",
    "    for i, act in enumerate(real_actions):\n",
    "        if np.isnan(act):\n",
    "            real_actions[i] = 1\n",
    "    return [action - 1 for action in real_actions]"
   ]
  },
  {
   "cell_type": "code",
   "execution_count": 54,
   "id": "93177d12",
   "metadata": {},
   "outputs": [
    {
     "name": "stdout",
     "output_type": "stream",
     "text": [
      "['/Users/johnzhou/research/decision-making/data/DynamicForaging/MR17_DynamicForaging_20221006_160204.mat', '/Users/johnzhou/research/decision-making/data/DynamicForaging/MR16_DynamicForaging_20221011_132928.mat', '/Users/johnzhou/research/decision-making/data/DynamicForaging/MR16_DynamicForaging_20221006_152352.mat', '/Users/johnzhou/research/decision-making/data/DynamicForaging/MR15_DynamicForaging_20221007_160954.mat', '/Users/johnzhou/research/decision-making/data/DynamicForaging/MR17_DynamicForaging_20221007_164236.mat', '/Users/johnzhou/research/decision-making/data/DynamicForaging/MR16_DynamicForaging_20221012_110414.mat', '/Users/johnzhou/research/decision-making/data/DynamicForaging/MR18_DynamicForaging_20221011_141239.mat', '/Users/johnzhou/research/decision-making/data/DynamicForaging/MR15_DynamicForaging_20221011_132938.mat', '/Users/johnzhou/research/decision-making/data/DynamicForaging/MR15_DynamicForaging_20221010_135246.mat', '/Users/johnzhou/research/decision-making/data/DynamicForaging/MR18_DynamicForaging_20221012_114333.mat', '/Users/johnzhou/research/decision-making/data/DynamicForaging/MR17_DynamicForaging_20221010_141802.mat', '/Users/johnzhou/research/decision-making/data/DynamicForaging/MR16_DynamicForaging_20221007_160919.mat', '/Users/johnzhou/research/decision-making/data/DynamicForaging/MR16_DynamicForaging_20221010_140416.mat', '/Users/johnzhou/research/decision-making/data/DynamicForaging/MR17_DynamicForaging_20221012_113903.mat', '/Users/johnzhou/research/decision-making/data/DynamicForaging/MR18_DynamicForaging_20221010_140054.mat', '/Users/johnzhou/research/decision-making/data/DynamicForaging/MR18_DynamicForaging_20221007_165441.mat', '/Users/johnzhou/research/decision-making/data/DynamicForaging/MR15_DynamicForaging_20221012_110409.mat', '/Users/johnzhou/research/decision-making/data/DynamicForaging/MR15_DynamicForaging_20221007_160954.npy', '/Users/johnzhou/research/decision-making/data/DynamicForaging/MR17_DynamicForaging_20221011_135758.mat', '/Users/johnzhou/research/decision-making/data/DynamicForaging/MR18_DynamicForaging_20221006_151941.mat', '/Users/johnzhou/research/decision-making/data/DynamicForaging/MR15_DynamicForaging_20221006_125935.mat']\n"
     ]
    }
   ],
   "source": [
    "import os\n",
    "# assign directory\n",
    "directory = \"/Users/johnzhou/research/decision-making/data/DynamicForaging/\"\n",
    " \n",
    "# iterate over files in\n",
    "# that directory\n",
    "filenames = []\n",
    "for filename in os.listdir(directory):\n",
    "    f = os.path.join(directory, filename)\n",
    "    # checking if it is a file\n",
    "    if os.path.isfile(f):\n",
    "        filenames.append(f)\n",
    "print(filenames)"
   ]
  },
  {
   "cell_type": "code",
   "execution_count": 42,
   "id": "45a5dad1",
   "metadata": {},
   "outputs": [],
   "source": []
  },
  {
   "cell_type": "code",
   "execution_count": 56,
   "id": "a6c38ce2",
   "metadata": {},
   "outputs": [
    {
     "name": "stdout",
     "output_type": "stream",
     "text": [
      "too short, only 8\n",
      "too short, only 6\n",
      "too short, only 10\n",
      "too short, only 8\n",
      "too short, only 2\n",
      "too short, only 1\n",
      "fail\n",
      "too short, only 8\n",
      "too short, only 6\n"
     ]
    }
   ],
   "source": [
    "real_params = []\n",
    "\n",
    "for filename in filenames:\n",
    "    try:\n",
    "        real_expt = DynamicForagingDataset(filename)\n",
    "    except ValueError:\n",
    "        print(\"fail\")\n",
    "        continue\n",
    "    # print(real_expt.num_trials)\n",
    "    # print(real_expt.block)\n",
    "    # print(real_expt.correct_side)\n",
    "    blocks = convert_real_blocks(real_expt.block, real_expt.correct_side)\n",
    "    actions = convert_real_actions(real_expt.response_side)\n",
    "    rewards = real_expt.rewarded\n",
    "\n",
    "    E = compute_foraging_efficiency(actions, rewards)\n",
    "    blocked_actions = blockify(blocks, actions)\n",
    "    normalized_actions = [normalize_block_ala_le2022(blocked_actions[block_idx], blocks[block_idx][0])\n",
    "                          for block_idx in range(len(blocks))]\n",
    "    for i in range(len(blocks)):\n",
    "        if blocks[i][2] < 15:\n",
    "            print(f\"too short, only {blocks[i][2]}\")\n",
    "            continue\n",
    "        x_obs = range(15)\n",
    "        y_obs = normalized_actions[i][:15]\n",
    "\n",
    "        x0 = np.array([0.1, 1, 11])\n",
    "        res = scipy.optimize.minimize(driver_func, x0, args=(x_obs, y_obs), bounds=((0, 0.5), (0, float('inf')), (0, float('inf'))))\n",
    "#         print(res.x)\n",
    "        real_params.append((*res.x, E))\n",
    "#         plt.plot(x_obs, sigmoid(x_obs, *res.x), 'r-',\n",
    "#                  label='fit: eps=%5.3f, k=%5.3f, x0=%5.3f' % tuple(res.x))\n",
    "#         plt.legend()\n",
    "#         plt.scatter(x_obs, y_obs)\n",
    "#         plt.show()"
   ]
  },
  {
   "cell_type": "code",
   "execution_count": null,
   "id": "040bd2c0",
   "metadata": {},
   "outputs": [],
   "source": []
  },
  {
   "cell_type": "code",
   "execution_count": 57,
   "id": "edb8abd6",
   "metadata": {},
   "outputs": [
    {
     "name": "stdout",
     "output_type": "stream",
     "text": [
      "(220, 4)\n"
     ]
    }
   ],
   "source": [
    "real_params = np.array(real_params)\n",
    "print(real_params.shape)\n",
    "np.save(\"/Users/johnzhou/research/decision-making/data/DynamicForaging/real_data.npy\",\n",
    "       real_params)"
   ]
  },
  {
   "cell_type": "code",
   "execution_count": null,
   "id": "5257271d",
   "metadata": {},
   "outputs": [],
   "source": []
  },
  {
   "cell_type": "code",
   "execution_count": null,
   "id": "775a6def",
   "metadata": {},
   "outputs": [],
   "source": []
  }
 ],
 "metadata": {
  "kernelspec": {
   "display_name": "Python 3 (ipykernel)",
   "language": "python",
   "name": "python3"
  },
  "language_info": {
   "codemirror_mode": {
    "name": "ipython",
    "version": 3
   },
   "file_extension": ".py",
   "mimetype": "text/x-python",
   "name": "python",
   "nbconvert_exporter": "python",
   "pygments_lexer": "ipython3",
   "version": "3.7.11"
  }
 },
 "nbformat": 4,
 "nbformat_minor": 5
}
