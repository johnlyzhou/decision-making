{
 "cells": [
  {
   "cell_type": "code",
   "execution_count": 1,
   "id": "ed8285bc",
   "metadata": {},
   "outputs": [],
   "source": [
    "import sys \n",
    "sys.path.append(\"/Users/johnzhou/research/decision-making\")"
   ]
  },
  {
   "cell_type": "code",
   "execution_count": 3,
   "id": "2649a280",
   "metadata": {},
   "outputs": [],
   "source": [
    "from omegaconf import OmegaConf\n",
    "from scipy import io\n",
    "import numpy as np\n",
    "import matplotlib.pyplot as plt"
   ]
  },
  {
   "cell_type": "code",
   "execution_count": 4,
   "id": "d8bf862d",
   "metadata": {},
   "outputs": [],
   "source": [
    "base_config = OmegaConf.create({\n",
    "    \"environment\": \"Block2AFCTask\",\n",
    "    \"agent\": \"BlockSwitchingAgent\",\n",
    "    \"learning_rate\": 0.1,\n",
    "    \"epsilon\": 0.05,\n",
    "    \"p_reward\": 1.0,\n",
    "    \"p_switch\": 0.1,\n",
    "    \"transition_probs\": [[0.95, 0.05], [0.05, 0.95]],\n",
    "    \"blocks\": [('LOW', 1.0, 100),\n",
    "               ('HIGH', 1.0, 100),\n",
    "               ('LOW', 1.0, 100),\n",
    "               ('HIGH', 1.0, 100),\n",
    "               ('LOW', 1.0, 100),\n",
    "               ('HIGH', 1.0, 100)],\n",
    "    \"save_location\": \"/Users/johnzhou/research/decision-making/figures\",\n",
    "})\n",
    "\n",
    "OmegaConf.save(base_config, \"/Users/johnzhou/research/decision-making/configs/block_switching_config.yaml\")"
   ]
  },
  {
   "cell_type": "code",
   "execution_count": 4,
   "id": "344c5e28",
   "metadata": {},
   "outputs": [],
   "source": [
    "datapath = \"/Users/johnzhou/research/decision-making/data/MR19_NorthernFlicker_20220819_151409.mat\"\n",
    "data = io.loadmat(datapath)['SessionData'][0][0]"
   ]
  },
  {
   "cell_type": "code",
   "execution_count": 5,
   "id": "bdebea02",
   "metadata": {},
   "outputs": [],
   "source": [
    "taskdata = SessionDataset(datapath)"
   ]
  },
  {
   "cell_type": "code",
   "execution_count": 12,
   "id": "ca9faced",
   "metadata": {},
   "outputs": [
    {
     "name": "stdout",
     "output_type": "stream",
     "text": [
      "[18 21]\n"
     ]
    }
   ],
   "source": [
    "print(taskdata.right_stims[0])"
   ]
  },
  {
   "cell_type": "code",
   "execution_count": null,
   "id": "07024069",
   "metadata": {},
   "outputs": [],
   "source": []
  }
 ],
 "metadata": {
  "kernelspec": {
   "display_name": "Python 3 (ipykernel)",
   "language": "python",
   "name": "python3"
  },
  "language_info": {
   "codemirror_mode": {
    "name": "ipython",
    "version": 3
   },
   "file_extension": ".py",
   "mimetype": "text/x-python",
   "name": "python",
   "nbconvert_exporter": "python",
   "pygments_lexer": "ipython3",
   "version": "3.7.11"
  }
 },
 "nbformat": 4,
 "nbformat_minor": 5
}
