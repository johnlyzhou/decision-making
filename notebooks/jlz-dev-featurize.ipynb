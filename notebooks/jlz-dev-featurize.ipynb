{
 "cells": [
  {
   "cell_type": "code",
   "execution_count": 1,
   "id": "79953339",
   "metadata": {},
   "outputs": [],
   "source": [
    "repo_path = \"/Users/johnzhou/research/decision-making\"\n",
    "expt_dir = f\"{repo_path}/experiments\"\n",
    "data_dir = f\"{repo_path}/data\""
   ]
  },
  {
   "cell_type": "code",
   "execution_count": 2,
   "id": "5c977cd0",
   "metadata": {},
   "outputs": [],
   "source": [
    "import sys\n",
    "sys.path.append(repo_path)"
   ]
  },
  {
   "cell_type": "code",
   "execution_count": 3,
   "id": "b548b8db",
   "metadata": {},
   "outputs": [],
   "source": [
    "import numpy as np\n",
    "import matplotlib.pyplot as plt\n",
    "from omegaconf import OmegaConf\n",
    "from sklearn.model_selection import StratifiedKFold, train_test_split\n",
    "import torch\n",
    "\n",
    "from src.data.blocks import RealDataset, SynthDataset\n",
    "from src.models.agentnet import AgentNet\n",
    "from src.models.sigmoidnet import SigmoidNet\n",
    "from src.models.find_shapes import conv1d_shape, convtranspose1d_shape\n",
    "from src.models.train import train"
   ]
  },
  {
   "cell_type": "code",
   "execution_count": 5,
   "id": "73611820",
   "metadata": {},
   "outputs": [
    {
     "name": "stdout",
     "output_type": "stream",
     "text": [
      "{'name': 'test_expt', 'random_seed': 4995, 'model': {'in_channels': 1, 'conv_encoder_layers': [[16, 3, 2], [8, 3, 2], [4, 1, 1]], 'conv_decoder_layers': [[8, 3, 2, 0], [4, 2, 1, 0], [1, 1, 2, 0]], 'encoder_output_dim': [4, 3], 'latent_dim': 6, 'use_batch_norm': True}, 'learning_rate': 0.0001, 'data': {'feature_path': '/Users/johnzhou/research/decision-making/data/synth/sim_features.npy', 'label_path': '/Users/johnzhou/research/decision-making/data/synth/sim_labels.npy', 'train_proportion': 0.8, 'train_batch_size': 100, 'val_batch_size': 100}, 'trainer': {'gpus': 0, 'max_epochs': 100}}\n"
     ]
    }
   ],
   "source": [
    "print(OmegaConf.to_container(vae_config))"
   ]
  },
  {
   "cell_type": "code",
   "execution_count": 6,
   "id": "d03c9ab8",
   "metadata": {},
   "outputs": [],
   "source": [
    "classifier_config = OmegaConf.create({\n",
    "    \"name\": \"test_expt\",\n",
    "    \"random_seed\": 4995,\n",
    "    \"model\": {\n",
    "        \"in_features\": 15,\n",
    "        \"linear_layers\": [8],\n",
    "        \"use_batch_norm\": True\n",
    "    },\n",
    "    \"learning_rate\": 1e-4,\n",
    "    \"data\": {\n",
    "        \"feature_path\": f\"{repo_path}/data/synth/sim_features.npy\",\n",
    "        \"label_path\": f\"{repo_path}/data/synth/sim_labels.npy\",\n",
    "        \"train_proportion\": 0.8,\n",
    "        \"train_batch_size\": 100,\n",
    "        \"val_batch_size\": 100\n",
    "    },\n",
    "    \"trainer\": {\n",
    "        \"gpus\": 0,\n",
    "        \"max_epochs\": 100\n",
    "    },\n",
    "\n",
    "})\n",
    "\n",
    "OmegaConf.save(config=classifier_config, f=f\"{repo_path}/configs/model_configs/classifier_train.yaml\")"
   ]
  },
  {
   "cell_type": "code",
   "execution_count": 7,
   "id": "dad76c3d",
   "metadata": {},
   "outputs": [
    {
     "data": {
      "text/html": [
       "\n",
       "      <iframe id=\"tensorboard-frame-64222bf1e41a8ee6\" width=\"100%\" height=\"800\" frameborder=\"0\">\n",
       "      </iframe>\n",
       "      <script>\n",
       "        (function() {\n",
       "          const frame = document.getElementById(\"tensorboard-frame-64222bf1e41a8ee6\");\n",
       "          const url = new URL(\"/\", window.location);\n",
       "          const port = 6006;\n",
       "          if (port) {\n",
       "            url.port = port;\n",
       "          }\n",
       "          frame.src = url;\n",
       "        })();\n",
       "      </script>\n",
       "    "
      ],
      "text/plain": [
       "<IPython.core.display.HTML object>"
      ]
     },
     "metadata": {},
     "output_type": "display_data"
    }
   ],
   "source": [
    "%reload_ext tensorboard\n",
    "%tensorboard --logdir=lightning_logs/"
   ]
  },
  {
   "cell_type": "code",
   "execution_count": 9,
   "id": "28abf279",
   "metadata": {},
   "outputs": [
    {
     "name": "stdout",
     "output_type": "stream",
     "text": [
      "{'in_features': 15, 'linear_layers': [8], 'use_batch_norm': True}\n",
      "LinearClassifier(\n",
      "  (layers): Sequential(\n",
      "    (0): Linear(in_features=15, out_features=8, bias=True)\n",
      "    (1): LeakyReLU(negative_slope=0.05)\n",
      "    (2): BatchNorm1d(1, eps=1e-05, momentum=0.1, affine=True, track_running_stats=True)\n",
      "    (3): Linear(in_features=8, out_features=3, bias=True)\n",
      "  )\n",
      ")\n",
      "{'in_features': 15, 'linear_layers': [8], 'use_batch_norm': True}\n",
      "LinearClassifier(\n",
      "  (layers): Sequential(\n",
      "    (0): Linear(in_features=15, out_features=8, bias=True)\n",
      "    (1): LeakyReLU(negative_slope=0.05)\n",
      "    (2): BatchNorm1d(1, eps=1e-05, momentum=0.1, affine=True, track_running_stats=True)\n",
      "    (3): Linear(in_features=8, out_features=3, bias=True)\n",
      "  )\n",
      ")\n"
     ]
    }
   ],
   "source": [
    "net = SigmoidNet(OmegaConf.to_container(classifier_config))\n",
    "model = net.load_from_checkpoint(f\"{expt_dir}/test_expt/model-v1.ckpt\")"
   ]
  },
  {
   "cell_type": "code",
   "execution_count": 15,
   "id": "45b4d3ec",
   "metadata": {},
   "outputs": [
    {
     "name": "stdout",
     "output_type": "stream",
     "text": [
      "{'in_features': 15, 'linear_layers': [64, 32, 16, 8], 'use_batch_norm': True}\n",
      "LinearClassifier(\n",
      "  (layers): Sequential(\n",
      "    (0): Linear(in_features=15, out_features=64, bias=True)\n",
      "    (1): LeakyReLU(negative_slope=0.05)\n",
      "    (2): BatchNorm1d(1, eps=1e-05, momentum=0.1, affine=True, track_running_stats=True)\n",
      "    (3): Linear(in_features=64, out_features=32, bias=True)\n",
      "    (4): LeakyReLU(negative_slope=0.05)\n",
      "    (5): BatchNorm1d(1, eps=1e-05, momentum=0.1, affine=True, track_running_stats=True)\n",
      "    (6): Linear(in_features=32, out_features=16, bias=True)\n",
      "    (7): LeakyReLU(negative_slope=0.05)\n",
      "    (8): BatchNorm1d(1, eps=1e-05, momentum=0.1, affine=True, track_running_stats=True)\n",
      "    (9): Linear(in_features=16, out_features=8, bias=True)\n",
      "    (10): LeakyReLU(negative_slope=0.05)\n",
      "    (11): BatchNorm1d(1, eps=1e-05, momentum=0.1, affine=True, track_running_stats=True)\n",
      "    (12): Linear(in_features=8, out_features=3, bias=True)\n",
      "  )\n",
      ")\n",
      "torch.Size([100000, 3])\n"
     ]
    }
   ],
   "source": [
    "X_fname = f\"{data_dir}/synth/sim_features.npy\"\n",
    "model_fname = f\"{expt_dir}/test_expt/sigmoid.ckpt\"\n",
    "system = SigmoidNet\n",
    "\n",
    "model = system.load_from_checkpoint(model_fname)\n",
    "\n",
    "params = torch.squeeze(model(torch.unsqueeze(torch.from_numpy(np.load(X_fname)).float(), 1)))\n",
    "print(params.shape)"
   ]
  },
  {
   "cell_type": "code",
   "execution_count": null,
   "id": "5aceacb7",
   "metadata": {},
   "outputs": [],
   "source": []
  }
 ],
 "metadata": {
  "kernelspec": {
   "display_name": "Python 3 (ipykernel)",
   "language": "python",
   "name": "python3"
  },
  "language_info": {
   "codemirror_mode": {
    "name": "ipython",
    "version": 3
   },
   "file_extension": ".py",
   "mimetype": "text/x-python",
   "name": "python",
   "nbconvert_exporter": "python",
   "pygments_lexer": "ipython3",
   "version": "3.10.4"
  }
 },
 "nbformat": 4,
 "nbformat_minor": 5
}
