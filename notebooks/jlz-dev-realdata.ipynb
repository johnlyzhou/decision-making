{
 "cells": [
  {
   "cell_type": "markdown",
   "id": "b55a2f94",
   "metadata": {},
   "source": [
    "# Featurize real data"
   ]
  },
  {
   "cell_type": "code",
   "execution_count": 1,
   "id": "86981bf4",
   "metadata": {},
   "outputs": [
    {
     "name": "stderr",
     "output_type": "stream",
     "text": [
      "/Users/johnzhou/miniconda3/envs/ssm/lib/python3.10/site-packages/tqdm/auto.py:22: TqdmWarning: IProgress not found. Please update jupyter and ipywidgets. See https://ipywidgets.readthedocs.io/en/stable/user_install.html\n",
      "  from .autonotebook import tqdm as notebook_tqdm\n"
     ]
    }
   ],
   "source": [
    "import numpy as np\n",
    "import matplotlib.pyplot as plt\n",
    "\n",
    "from hmmlearn import hmm\n",
    "from hmmlearn.hmm import GaussianHMM\n",
    "import ssm\n",
    "from ssm.util import find_permutation\n",
    "\n",
    "from src.models.hmm import HistogramHMM\n",
    "from src.data.synth_data import SynthBlockDataset\n",
    "from src.features.fit_curves import get_sigmoid_feats\n",
    "from src.features.losses import mse_loss\n",
    "\n",
    "from src.features.fit_curves import epsilon_sigmoid\n",
    "from src.visualization.plot_replications import plot_fitted_block, plot_sigmoids\n",
    "\n",
    "from ssm.plots import gradient_cmap, white_to_color_cmap\n",
    "import seaborn as sns\n",
    "sns.set_style(\"white\")\n",
    "sns.set_context(\"talk\")\n",
    "\n",
    "color_names = [\n",
    "    \"light navy\",\n",
    "    \n",
    "    \"faded green\",\n",
    "    \"dusty purple\",\n",
    "    \"orange\",\n",
    "    \"windows blue\",\n",
    "    \"marigold\",\n",
    "    ]\n",
    "\n",
    "colors = sns.xkcd_palette(color_names)\n",
    "cmap = gradient_cmap(colors)"
   ]
  },
  {
   "cell_type": "code",
   "execution_count": 2,
   "id": "58a26460",
   "metadata": {},
   "outputs": [],
   "source": [
    "import os\n",
    "import sys \n",
    "sys.path.append(\"/Users/johnzhou/research/decision-making\")\n",
    "\n",
    "import numpy as np\n",
    "from scipy.optimize import minimize\n",
    "import seaborn as sns\n",
    "\n",
    "from src.features.losses import mse_loss\n",
    "from src.features.fit_curves import get_sigmoid_feats\n",
    "from src.data.real_data import RealSessionDataset, convert_real_actions\n",
    "from src.data.environments import DynamicForagingTask\n",
    "from src.data.experiments import RealExperiment\n",
    "from src.utils import blockify, build_config, normalize_choice_block_side, average_choice_blocks, truncate_blocks"
   ]
  },
  {
   "cell_type": "code",
   "execution_count": 3,
   "id": "93177d12",
   "metadata": {},
   "outputs": [
    {
     "name": "stdout",
     "output_type": "stream",
     "text": [
      "/Users/johnzhou/research/decision-making/data/raw/dynamic_foraging/MR15_DynamicForaging_20221020_134822.mat\n",
      "/Users/johnzhou/research/decision-making/data/raw/dynamic_foraging/MR17_DynamicForaging_20221017_155902.mat\n",
      "/Users/johnzhou/research/decision-making/data/raw/dynamic_foraging/MR16_DynamicForaging_20221019_111458.mat\n",
      "/Users/johnzhou/research/decision-making/data/raw/dynamic_foraging/MR17_DynamicForaging_20221018_124021.mat\n",
      "/Users/johnzhou/research/decision-making/data/raw/dynamic_foraging/MR17_DynamicForaging_20221006_160204.mat\n",
      "/Users/johnzhou/research/decision-making/data/raw/dynamic_foraging/MR16_DynamicForaging_20221011_132928.mat\n",
      "/Users/johnzhou/research/decision-making/data/raw/dynamic_foraging/MR16_DynamicForaging_20221020_134759.mat\n",
      "/Users/johnzhou/research/decision-making/data/raw/dynamic_foraging/MR18_DynamicForaging_20221017_155907.mat\n",
      "/Users/johnzhou/research/decision-making/data/raw/dynamic_foraging/MR16_DynamicForaging_20221006_152352.mat\n",
      "/Users/johnzhou/research/decision-making/data/raw/dynamic_foraging/MR15_DynamicForaging_20221007_160954.mat\n",
      "/Users/johnzhou/research/decision-making/data/raw/dynamic_foraging/MR18_DynamicForaging_20221020_142935.mat\n",
      "/Users/johnzhou/research/decision-making/data/raw/dynamic_foraging/MR18_DynamicForaging_20221013_123144.mat\n",
      "/Users/johnzhou/research/decision-making/data/raw/dynamic_foraging/MR17_DynamicForaging_20221007_164236.mat\n",
      "/Users/johnzhou/research/decision-making/data/raw/dynamic_foraging/MR16_DynamicForaging_20221012_110414.mat\n",
      "/Users/johnzhou/research/decision-making/data/raw/dynamic_foraging/MR18_DynamicForaging_20221011_141239.mat\n",
      "/Users/johnzhou/research/decision-making/data/raw/dynamic_foraging/MR16_DynamicForaging_20221014_124744.mat\n",
      "/Users/johnzhou/research/decision-making/data/raw/dynamic_foraging/MR15_DynamicForaging_20221011_132938.mat\n",
      "/Users/johnzhou/research/decision-making/data/raw/dynamic_foraging/MR15_DynamicForaging_20221010_135246.mat\n",
      "/Users/johnzhou/research/decision-making/data/raw/dynamic_foraging/MR17_DynamicForaging_20221020_142946.mat\n",
      "/Users/johnzhou/research/decision-making/data/raw/dynamic_foraging/MR18_DynamicForaging_20221012_114333.mat\n",
      "/Users/johnzhou/research/decision-making/data/raw/dynamic_foraging/MR16_DynamicForaging_20221017_130617.mat\n",
      "/Users/johnzhou/research/decision-making/data/raw/dynamic_foraging/MR18_DynamicForaging_20221018_123918.mat\n",
      "/Users/johnzhou/research/decision-making/data/raw/dynamic_foraging/MR17_DynamicForaging_20221013_123247.mat\n",
      "/Users/johnzhou/research/decision-making/data/raw/dynamic_foraging/MR17_DynamicForaging_20221010_141802.mat\n",
      "/Users/johnzhou/research/decision-making/data/raw/dynamic_foraging/MR16_DynamicForaging_20221007_160919.mat\n",
      "/Users/johnzhou/research/decision-making/data/raw/dynamic_foraging/MR15_DynamicForaging_20221019_111559.mat\n",
      "/Users/johnzhou/research/decision-making/data/raw/dynamic_foraging/MR15_DynamicForaging_20221018_120449.mat\n",
      "/Users/johnzhou/research/decision-making/data/raw/dynamic_foraging/MR17_DynamicForaging_20221019_114539.mat\n",
      "/Users/johnzhou/research/decision-making/data/raw/dynamic_foraging/MR15_DynamicForaging_20221014_124739.mat\n",
      "/Users/johnzhou/research/decision-making/data/raw/dynamic_foraging/MR16_DynamicForaging_20221013_115356.mat\n",
      "/Users/johnzhou/research/decision-making/data/raw/dynamic_foraging/MR16_DynamicForaging_20221010_140416.mat\n",
      "/Users/johnzhou/research/decision-making/data/raw/dynamic_foraging/MR15_DynamicForaging_20221013_115351.mat\n",
      "/Users/johnzhou/research/decision-making/data/raw/dynamic_foraging/MR15_DynamicForaging_20221017_130635.mat\n",
      "/Users/johnzhou/research/decision-making/data/raw/dynamic_foraging/MR18_DynamicForaging_20221021_141356.mat\n",
      "/Users/johnzhou/research/decision-making/data/raw/dynamic_foraging/MR18_DynamicForaging_20221019_115001.mat\n",
      "/Users/johnzhou/research/decision-making/data/raw/dynamic_foraging/MR17_DynamicForaging_20221012_113903.mat\n",
      "/Users/johnzhou/research/decision-making/data/raw/dynamic_foraging/MR18_DynamicForaging_20221010_140054.mat\n",
      "/Users/johnzhou/research/decision-making/data/raw/dynamic_foraging/MR15_DynamicForaging_20221021_132841.mat\n",
      "/Users/johnzhou/research/decision-making/data/raw/dynamic_foraging/MR17_DynamicForaging_20221014_131847.mat\n",
      "/Users/johnzhou/research/decision-making/data/raw/dynamic_foraging/MR18_DynamicForaging_20221007_165441.mat\n",
      "/Users/johnzhou/research/decision-making/data/raw/dynamic_foraging/MR15_DynamicForaging_20221012_110409.mat\n",
      "/Users/johnzhou/research/decision-making/data/raw/dynamic_foraging/MR16_DynamicForaging_20221018_120436.mat\n",
      "/Users/johnzhou/research/decision-making/data/raw/dynamic_foraging/MR17_DynamicForaging_20221011_135758.mat\n",
      "/Users/johnzhou/research/decision-making/data/raw/dynamic_foraging/MR18_DynamicForaging_20221006_151941.mat\n",
      "/Users/johnzhou/research/decision-making/data/raw/dynamic_foraging/MR17_DynamicForaging_20221021_141054.mat\n",
      "/Users/johnzhou/research/decision-making/data/raw/dynamic_foraging/MR15_DynamicForaging_20221006_125935.mat\n",
      "/Users/johnzhou/research/decision-making/data/raw/dynamic_foraging/MR16_DynamicForaging_20221021_132830.mat\n",
      "/Users/johnzhou/research/decision-making/data/raw/dynamic_foraging/MR18_DynamicForaging_20221014_132026.mat\n"
     ]
    }
   ],
   "source": [
    "directory = \"/Users/johnzhou/research/decision-making/data/raw/dynamic_foraging\"\n",
    "filenames = []\n",
    "for filename in os.listdir(directory):\n",
    "    f = os.path.join(directory, filename)\n",
    "    if os.path.isfile(f):\n",
    "        filenames.append(f)\n",
    "    print(f)"
   ]
  },
  {
   "cell_type": "code",
   "execution_count": 4,
   "id": "a6c38ce2",
   "metadata": {},
   "outputs": [
    {
     "name": "stdout",
     "output_type": "stream",
     "text": [
      "/Users/johnzhou/research/decision-making/data/raw/dynamic_foraging/MR18_DynamicForaging_20221006_151941.mat yields 12\n",
      "/Users/johnzhou/research/decision-making/data/raw/dynamic_foraging/MR18_DynamicForaging_20221007_165441.mat yields 9\n",
      "/Users/johnzhou/research/decision-making/data/raw/dynamic_foraging/MR18_DynamicForaging_20221010_140054.mat yields 3\n",
      "/Users/johnzhou/research/decision-making/data/raw/dynamic_foraging/MR18_DynamicForaging_20221011_141239.mat yields 16\n",
      "/Users/johnzhou/research/decision-making/data/raw/dynamic_foraging/MR18_DynamicForaging_20221012_114333.mat yields 13\n",
      "/Users/johnzhou/research/decision-making/data/raw/dynamic_foraging/MR18_DynamicForaging_20221013_123144.mat yields 13\n",
      "/Users/johnzhou/research/decision-making/data/raw/dynamic_foraging/MR18_DynamicForaging_20221014_132026.mat yields 14\n",
      "/Users/johnzhou/research/decision-making/data/raw/dynamic_foraging/MR18_DynamicForaging_20221017_155907.mat yields 14\n",
      "/Users/johnzhou/research/decision-making/data/raw/dynamic_foraging/MR18_DynamicForaging_20221018_123918.mat yields 14\n",
      "/Users/johnzhou/research/decision-making/data/raw/dynamic_foraging/MR18_DynamicForaging_20221019_115001.mat yields 13\n",
      "/Users/johnzhou/research/decision-making/data/raw/dynamic_foraging/MR18_DynamicForaging_20221020_142935.mat yields 15\n",
      "/Users/johnzhou/research/decision-making/data/raw/dynamic_foraging/MR18_DynamicForaging_20221021_141356.mat yields 15\n"
     ]
    }
   ],
   "source": [
    "choice_blocks = []\n",
    "num_blocks = 0\n",
    "fit_loss = mse_loss\n",
    "block_bounds = []\n",
    "total_blocks = 0\n",
    "\n",
    "mouse_name = \"MR18\"\n",
    "\n",
    "for idx, filename in enumerate(sorted(filenames)):\n",
    "    if mouse_name not in filename:\n",
    "        continue\n",
    "#     if \"1014\" not in filename:\n",
    "#         continue\n",
    "    block_count = 0\n",
    "    try:\n",
    "        expt = RealExperiment(filename, task_type=DynamicForagingTask)\n",
    "    except ValueError:\n",
    "        print(f\"Failed to load {filename}\")\n",
    "        continue\n",
    "    \n",
    "    blocks = expt.blocks\n",
    "    num_blocks += len(blocks)\n",
    "    actions = expt.action_history\n",
    "    blocked_actions = blockify(expt.blocks, actions)\n",
    "    normalized_actions = [normalize_choice_block_side(blocked_actions[block_idx], side=blocks[block_idx][0])\n",
    "                          for block_idx in range(len(blocks))]\n",
    "    truncated_actions = truncate_blocks(normalized_actions)\n",
    "    \n",
    "    for choice_block in truncated_actions:\n",
    "        if len(choice_block) < 15:\n",
    "            continue\n",
    "        else:\n",
    "            choice_blocks.append(choice_block)\n",
    "            block_count += 1\n",
    "            total_blocks += 1\n",
    "#             print(choice_block)\n",
    "    print(f\"{filename} yields {block_count}\")\n",
    "    block_bounds.append(total_blocks)\n"
   ]
  },
  {
   "cell_type": "code",
   "execution_count": 10,
   "id": "a2a87f9e",
   "metadata": {},
   "outputs": [
    {
     "name": "stdout",
     "output_type": "stream",
     "text": [
      "True\n"
     ]
    }
   ],
   "source": [
    "fname = \"/Users/johnzhou/research/decision-making/data/raw/dynamic_foraging/MR18_DynamicForaging_20221006_151941.mat\"\n",
    "\n",
    "expt = RealExperiment(filename, task_type=DynamicForagingTask)\n",
    "\n",
    "valid_idxs = np.argwhere(~np.isnan(expt.data.actions)).flatten()\n",
    "converted_actions = []\n",
    "invalid_idxs2 = []\n",
    "for idx, act in enumerate(list(expt.data.actions)):\n",
    "    if np.isnan(act):\n",
    "        invalid_idxs2.append(idx)\n",
    "        continue\n",
    "    else:\n",
    "        converted_actions.append(int(act - 1))\n",
    "print(np.array_equal(np.array(convert_real_actions(expt.data.actions[valid_idxs])), np.array(converted_actions)))\n",
    "\n",
    "blocks = expt.blocks\n",
    "num_blocks += len(blocks)\n",
    "actions = expt.action_history\n",
    "blocked_actions = blockify(expt.blocks, actions)\n",
    "normalized_actions = [normalize_choice_block_side(blocked_actions[block_idx], side=blocks[block_idx][0])\n",
    "                      for block_idx in range(len(blocks))]\n",
    "truncated_actions = truncate_blocks(normalized_actions)\n",
    "\n"
   ]
  },
  {
   "cell_type": "code",
   "execution_count": 11,
   "id": "47777d27",
   "metadata": {},
   "outputs": [
    {
     "name": "stdout",
     "output_type": "stream",
     "text": [
      "[12, 21, 24, 40, 53, 66, 80, 94, 108, 121, 136, 151]\n"
     ]
    }
   ],
   "source": [
    "print(block_bounds)"
   ]
  },
  {
   "cell_type": "code",
   "execution_count": 12,
   "id": "040bd2c0",
   "metadata": {},
   "outputs": [
    {
     "name": "stderr",
     "output_type": "stream",
     "text": [
      "100%|████████████████████████████████████████| 151/151 [00:00<00:00, 805.90it/s]\n"
     ]
    }
   ],
   "source": [
    "sigmoids = []\n",
    "sigmoid_params = get_sigmoid_feats(choice_blocks, fit_loss, plot=False)\n",
    "sigmoids.append(sigmoid_params)"
   ]
  },
  {
   "cell_type": "code",
   "execution_count": 22,
   "id": "25fb51f9",
   "metadata": {},
   "outputs": [],
   "source": [
    "expt_name = \"generate_ssm_histogram\"\n",
    "repo_path = \"/Users/johnzhou/research/decision-making\"\n",
    "expt_data = SynthBlockDataset(expt_name, repo_path)\n",
    "boundary = list(expt_data.agent_labels == 1).index(True)\n",
    "\n",
    "offset_bins = list(range(-1, 15))\n",
    "mf_hist, mf_bins = np.histogramdd(expt_data.sigmoid_parameters[:boundary, :], bins=[100, 100, offset_bins])\n",
    "mb_hist, mb_bins = np.histogramdd(expt_data.sigmoid_parameters[boundary:, :], bins=[100, 100, offset_bins])\n",
    "emission_hists = [mf_hist / np.sum(mf_hist), mb_hist / np.sum(mb_hist)]\n",
    "emission_bins = [mf_bins, mb_bins]"
   ]
  },
  {
   "cell_type": "code",
   "execution_count": 23,
   "id": "f53f3fe2",
   "metadata": {},
   "outputs": [
    {
     "name": "stdout",
     "output_type": "stream",
     "text": [
      "[]\n",
      "[[-4.51514668        -inf]\n",
      " [-7.64589983        -inf]\n",
      " [-4.02273113        -inf]\n",
      " [-4.44067321        -inf]\n",
      " [-4.88461957        -inf]\n",
      " [-4.9038458         -inf]\n",
      " [-5.47744403        -inf]\n",
      " [-7.46288116        -inf]\n",
      " [-3.66438198 -4.63192492]\n",
      " [-4.57930753        -inf]\n",
      " [-3.95378294        -inf]\n",
      " [-3.99529592        -inf]\n",
      " [-4.74673375        -inf]\n",
      " [-2.95963181 -0.42489872]\n",
      " [-3.96268492 -2.68924807]\n",
      " [-4.34188327 -1.51512823]\n",
      " [-5.20228018        -inf]\n",
      " [-2.95963181 -0.42489872]\n",
      " [-2.95963181 -0.42489872]\n",
      " [-3.75007424 -4.28526297]\n",
      " [-4.74673375        -inf]\n",
      " [-6.06705053        -inf]\n",
      " [-4.15307598 -7.45593669]\n",
      " [-3.99529592        -inf]\n",
      " [-4.15307598 -7.45593669]\n",
      " [-3.99529592        -inf]\n",
      " [-4.51514668        -inf]\n",
      " [-6.09239047        -inf]\n",
      " [-4.34188327 -1.51512823]\n",
      " [-3.75007424 -4.28526297]\n",
      " [-4.34188327 -1.51512823]\n",
      " [-3.66438198 -4.63192492]\n",
      " [-2.95963181 -0.42489872]\n",
      " [-3.96268492 -2.68924807]\n",
      " [-7.28172172        -inf]\n",
      " [-4.34188327 -1.51512823]\n",
      " [-2.95963181 -0.42489872]\n",
      " [-6.36892546        -inf]\n",
      " [-2.92036509        -inf]\n",
      " [-4.34188327 -1.51512823]\n",
      " [-4.43762391        -inf]\n",
      " [-2.92036509        -inf]\n",
      " [-4.15307598 -7.45593669]\n",
      " [-4.34188327 -1.51512823]\n",
      " [-4.05693318 -7.58109983]\n",
      " [-2.95963181 -0.42489872]\n",
      " [-3.77819166 -6.11295444]\n",
      " [-2.95963181 -0.42489872]\n",
      " [-4.34188327 -1.51512823]\n",
      " [-2.95963181 -0.42489872]\n",
      " [-2.95963181 -0.42489872]\n",
      " [-2.95963181 -0.42489872]\n",
      " [-4.34188327 -1.51512823]\n",
      " [-4.05693318 -7.58109983]\n",
      " [-2.95963181 -0.42489872]\n",
      " [-3.86456706 -3.66547548]\n",
      " [-2.95963181 -0.42489872]\n",
      " [-4.34188327 -1.51512823]\n",
      " [-3.86456706 -3.66547548]\n",
      " [-3.96268492 -2.68924807]\n",
      " [-2.95963181 -0.42489872]\n",
      " [-3.86456706 -3.66547548]\n",
      " [-2.92036509        -inf]\n",
      " [-3.93734081 -6.58277742]\n",
      " [-2.95963181 -0.42489872]\n",
      " [-5.96618674        -inf]\n",
      " [-5.42025904        -inf]\n",
      " [-3.75007424 -4.28526297]\n",
      " [-3.75007424 -4.28526297]\n",
      " [-2.92036509        -inf]\n",
      " [-3.66438198 -4.63192492]\n",
      " [-2.95963181 -0.42489872]\n",
      " [-4.34188327 -1.51512823]\n",
      " [-4.34188327 -1.51512823]\n",
      " [-4.34188327 -1.51512823]\n",
      " [-2.95963181 -0.42489872]\n",
      " [-4.34188327 -1.51512823]\n",
      " [-2.95963181 -0.42489872]\n",
      " [-2.95963181 -0.42489872]\n",
      " [-3.96268492 -2.68924807]\n",
      " [-2.95963181 -0.42489872]\n",
      " [-3.96268492 -2.68924807]\n",
      " [-4.34188327 -1.51512823]\n",
      " [-4.9038458         -inf]\n",
      " [-3.96268492 -2.68924807]\n",
      " [-3.96268492 -2.68924807]\n",
      " [-4.34188327 -1.51512823]\n",
      " [-4.23098937        -inf]\n",
      " [-4.05693318 -7.58109983]\n",
      " [-3.75007424 -4.28526297]\n",
      " [-2.95963181 -0.42489872]\n",
      " [-2.95963181 -0.42489872]\n",
      " [-2.92036509        -inf]\n",
      " [-3.16761253        -inf]\n",
      " [-4.51514668        -inf]\n",
      " [-4.34188327 -1.51512823]\n",
      " [-2.95963181 -0.42489872]\n",
      " [-2.95963181 -0.42489872]\n",
      " [-3.86456706 -3.66547548]\n",
      " [-4.34188327 -1.51512823]\n",
      " [-3.86456706 -3.66547548]\n",
      " [-2.95963181 -0.42489872]\n",
      " [-4.34188327 -1.51512823]\n",
      " [-2.95963181 -0.42489872]\n",
      " [-3.75007424 -4.28526297]\n",
      " [-4.34188327 -1.51512823]\n",
      " [-3.96268492 -2.68924807]\n",
      " [-2.95963181 -0.42489872]\n",
      " [-2.95963181 -0.42489872]\n",
      " [-2.95963181 -0.42489872]\n",
      " [-3.86456706 -3.66547548]\n",
      " [-3.66438198 -4.63192492]\n",
      " [-2.95963181 -0.42489872]\n",
      " [-5.10935127        -inf]\n",
      " [-2.95963181 -0.42489872]\n",
      " [-3.96268492 -2.68924807]\n",
      " [-2.95963181 -0.42489872]\n",
      " [-4.34188327 -1.51512823]\n",
      " [-2.95963181 -0.42489872]\n",
      " [-4.34188327 -1.51512823]\n",
      " [-2.95963181 -0.42489872]\n",
      " [-2.95963181 -0.42489872]\n",
      " [-2.95963181 -0.42489872]\n",
      " [-2.95963181 -0.42489872]\n",
      " [-4.34188327 -1.51512823]\n",
      " [-2.95963181 -0.42489872]\n",
      " [-3.96268492 -2.68924807]\n",
      " [-3.66438198 -4.63192492]\n",
      " [-2.95963181 -0.42489872]\n",
      " [-4.23098937        -inf]\n",
      " [-2.95963181 -0.42489872]\n",
      " [-3.86456706 -3.66547548]\n",
      " [-2.95963181 -0.42489872]\n",
      " [-6.28933164        -inf]\n",
      " [-3.96268492 -2.68924807]\n",
      " [-2.95963181 -0.42489872]\n",
      " [-6.04655451        -inf]\n",
      " [-3.75007424 -4.28526297]\n",
      " [-3.96268492 -2.68924807]\n",
      " [-2.95963181 -0.42489872]\n",
      " [-3.93734081 -6.58277742]\n",
      " [-4.34188327 -1.51512823]\n",
      " [-4.34188327 -1.51512823]\n",
      " [-2.95963181 -0.42489872]\n",
      " [-2.95963181 -0.42489872]\n",
      " [-2.95963181 -0.42489872]\n",
      " [-4.34188327 -1.51512823]\n",
      " [-2.95963181 -0.42489872]\n",
      " [-4.34188327 -1.51512823]\n",
      " [-2.95963181 -0.42489872]\n",
      " [-2.95963181 -0.42489872]]\n"
     ]
    },
    {
     "name": "stderr",
     "output_type": "stream",
     "text": [
      "/Users/johnzhou/research/decision-making/src/models/hmm.py:101: RuntimeWarning: divide by zero encountered in log\n",
      "  return np.log(probs)\n"
     ]
    }
   ],
   "source": [
    "X = np.squeeze(np.array(sigmoids))\n",
    "hist_model = HistogramHMM(2, 3, emission_hists, emission_bins, random_state=idx)\n",
    "a = hist_model._compute_log_likelihood(X)\n",
    "invalid_idxs = np.argwhere(np.all(a==np.array([np.NINF, np.NINF]), axis=1)).flatten()\n",
    "print(invalid_idxs)\n",
    "\n",
    "X = np.delete(X, invalid_idxs, axis=0)\n",
    "time_bins = X.shape[0]\n",
    "# np.save(\"sigs.npy\", X)\n",
    "print(a)"
   ]
  },
  {
   "cell_type": "code",
   "execution_count": 24,
   "id": "14ec9867",
   "metadata": {
    "scrolled": true
   },
   "outputs": [
    {
     "name": "stdout",
     "output_type": "stream",
     "text": [
      "(151, 3)\n",
      "Converged: True\tScore: -450.584515723189\n"
     ]
    },
    {
     "name": "stderr",
     "output_type": "stream",
     "text": [
      "/Users/johnzhou/research/decision-making/src/models/hmm.py:101: RuntimeWarning: divide by zero encountered in log\n",
      "  return np.log(probs)\n",
      "/Users/johnzhou/research/decision-making/src/models/hmm.py:101: RuntimeWarning: divide by zero encountered in log\n",
      "  return np.log(probs)\n",
      "/Users/johnzhou/research/decision-making/src/models/hmm.py:101: RuntimeWarning: divide by zero encountered in log\n",
      "  return np.log(probs)\n",
      "/Users/johnzhou/research/decision-making/src/models/hmm.py:101: RuntimeWarning: divide by zero encountered in log\n",
      "  return np.log(probs)\n",
      "/Users/johnzhou/research/decision-making/src/models/hmm.py:101: RuntimeWarning: divide by zero encountered in log\n",
      "  return np.log(probs)\n",
      "/Users/johnzhou/research/decision-making/src/models/hmm.py:101: RuntimeWarning: divide by zero encountered in log\n",
      "  return np.log(probs)\n",
      "/Users/johnzhou/research/decision-making/src/models/hmm.py:101: RuntimeWarning: divide by zero encountered in log\n",
      "  return np.log(probs)\n"
     ]
    },
    {
     "name": "stdout",
     "output_type": "stream",
     "text": [
      "Converged: True\tScore: -450.58461000073765\n",
      "Converged: True\tScore: -450.5846841272415\n"
     ]
    },
    {
     "name": "stderr",
     "output_type": "stream",
     "text": [
      "/Users/johnzhou/research/decision-making/src/models/hmm.py:101: RuntimeWarning: divide by zero encountered in log\n",
      "  return np.log(probs)\n",
      "/Users/johnzhou/research/decision-making/src/models/hmm.py:101: RuntimeWarning: divide by zero encountered in log\n",
      "  return np.log(probs)\n",
      "/Users/johnzhou/research/decision-making/src/models/hmm.py:101: RuntimeWarning: divide by zero encountered in log\n",
      "  return np.log(probs)\n",
      "/Users/johnzhou/research/decision-making/src/models/hmm.py:101: RuntimeWarning: divide by zero encountered in log\n",
      "  return np.log(probs)\n"
     ]
    },
    {
     "name": "stdout",
     "output_type": "stream",
     "text": [
      "Converged: True\tScore: -450.5846388126923\n",
      "Converged: True\tScore: -450.584507102874\n"
     ]
    },
    {
     "name": "stderr",
     "output_type": "stream",
     "text": [
      "/Users/johnzhou/research/decision-making/src/models/hmm.py:101: RuntimeWarning: divide by zero encountered in log\n",
      "  return np.log(probs)\n",
      "/Users/johnzhou/research/decision-making/src/models/hmm.py:101: RuntimeWarning: divide by zero encountered in log\n",
      "  return np.log(probs)\n",
      "/Users/johnzhou/research/decision-making/src/models/hmm.py:101: RuntimeWarning: divide by zero encountered in log\n",
      "  return np.log(probs)\n",
      "/Users/johnzhou/research/decision-making/src/models/hmm.py:101: RuntimeWarning: divide by zero encountered in log\n",
      "  return np.log(probs)\n"
     ]
    },
    {
     "name": "stdout",
     "output_type": "stream",
     "text": [
      "Converged: True\tScore: -450.5843885372469\n",
      "Converged: True\tScore: -450.58423773910806\n"
     ]
    },
    {
     "name": "stderr",
     "output_type": "stream",
     "text": [
      "/Users/johnzhou/research/decision-making/src/models/hmm.py:101: RuntimeWarning: divide by zero encountered in log\n",
      "  return np.log(probs)\n",
      "/Users/johnzhou/research/decision-making/src/models/hmm.py:101: RuntimeWarning: divide by zero encountered in log\n",
      "  return np.log(probs)\n",
      "/Users/johnzhou/research/decision-making/src/models/hmm.py:101: RuntimeWarning: divide by zero encountered in log\n",
      "  return np.log(probs)\n",
      "/Users/johnzhou/research/decision-making/src/models/hmm.py:101: RuntimeWarning: divide by zero encountered in log\n",
      "  return np.log(probs)\n"
     ]
    },
    {
     "name": "stdout",
     "output_type": "stream",
     "text": [
      "Converged: True\tScore: -450.5846269691353\n",
      "Converged: True\tScore: -450.58419151668517\n",
      "Converged: True\tScore: -450.58424999051635\n",
      "The best model had a score of -450.58419151668517 and 2 states\n",
      "[0 0 0 0 0 0 0 0 0 0 0 0 0 1 1 1 0 1 1 0 0 0 0 0 0 0 0 0 1 1 1 1 1 1 0 1 1\n",
      " 0 0 1 0 0 0 1 0 1 1 1 1 1 1 1 1 0 1 1 1 1 1 1 1 1 0 0 1 0 0 0 0 0 0 1 1 1\n",
      " 1 1 1 1 1 1 1 1 1 0 1 1 1 0 0 0 1 1 0 0 0 1 1 1 1 1 1 1 1 1 1 1 1 1 1 1 1\n",
      " 1 1 0 1 1 1 1 1 1 1 1 1 1 1 1 1 1 1 0 1 1 1 0 1 1 0 0 1 1 0 1 1 1 1 1 1 1\n",
      " 1 1 1]\n"
     ]
    },
    {
     "name": "stderr",
     "output_type": "stream",
     "text": [
      "/Users/johnzhou/research/decision-making/src/models/hmm.py:101: RuntimeWarning: divide by zero encountered in log\n",
      "  return np.log(probs)\n",
      "/Users/johnzhou/research/decision-making/src/models/hmm.py:101: RuntimeWarning: divide by zero encountered in log\n",
      "  return np.log(probs)\n"
     ]
    }
   ],
   "source": [
    "print(X.shape)\n",
    "models = []\n",
    "scores = []\n",
    "transmat = np.array([[0.5, 0.5],\n",
    "                    [0.5, 0.5]])\n",
    "for idx in range(10):\n",
    "    # define our hidden Markov model\n",
    "    model = HistogramHMM(2, 3, emission_hists, emission_bins, random_state=idx)\n",
    "#                          , init_params=\"s\", params=\"s\")\n",
    "#     model.transmat_ = transmat\n",
    "    model.fit(X)\n",
    "    models.append(model)\n",
    "    scores.append(model.score(X))\n",
    "    print(f'Converged: {model.monitor_.converged}'\n",
    "          f'\\tScore: {scores[-1]}')\n",
    "\n",
    "hist_model = models[np.argmax(scores)]\n",
    "n_states = hist_model.n_components\n",
    "print(f'The best model had a score of {max(scores)} and {n_states} '\n",
    "      'states')\n",
    "hist_predicted_states = hist_model.predict(X)\n",
    "print(hist_predicted_states)"
   ]
  },
  {
   "cell_type": "code",
   "execution_count": 25,
   "id": "3b5a38fe",
   "metadata": {},
   "outputs": [
    {
     "name": "stdout",
     "output_type": "stream",
     "text": [
      "Converged: True\tScore: -99.36179753704246\n",
      "Converged: True\tScore: -96.93603775076798\n",
      "Converged: True\tScore: 388.1851360669374\n",
      "Converged: True\tScore: -93.79904910410242\n",
      "Converged: True\tScore: -94.10799318755471\n",
      "Converged: True\tScore: 393.64118647627396\n",
      "Converged: True\tScore: 397.88633323281687\n",
      "Converged: True\tScore: -113.05518023132986\n",
      "Converged: True\tScore: -96.91239737256714\n",
      "Converged: True\tScore: -93.7782739839921\n",
      "The best model had a score of 397.88633323281687 and 2 states\n",
      "[0 1 1 0 1 1 1 1 0 1 0 0 1 0 0 0 1 0 0 0 1 1 0 0 0 0 0 0 0 0 0 0 0 0 1 0 0\n",
      " 1 0 0 1 0 0 0 0 0 0 0 0 0 0 0 0 0 0 0 0 0 0 0 0 0 0 0 0 1 1 0 0 0 0 0 0 0\n",
      " 0 0 0 0 0 0 0 0 0 1 0 0 0 0 0 0 0 0 0 1 0 0 0 0 0 0 0 0 0 0 0 0 0 0 0 0 0\n",
      " 0 0 1 0 0 0 0 0 0 0 0 0 0 0 0 0 0 0 0 0 0 0 1 0 0 1 0 0 0 0 0 0 0 0 0 0 0\n",
      " 0 0 0]\n"
     ]
    }
   ],
   "source": [
    "scores = []\n",
    "models = []\n",
    "\n",
    "for idx in range(10):\n",
    "    # define our hidden Markov model\n",
    "    model = GaussianHMM(n_components=2,\n",
    "                            covariance_type='full',\n",
    "                            random_state=idx)\n",
    "    model.fit(X)  # 50/50 train/validate\n",
    "    models.append(model)\n",
    "    scores.append(model.score(X))\n",
    "    print(f'Converged: {model.monitor_.converged}'\n",
    "          f'\\tScore: {scores[-1]}')\n",
    "\n",
    "gaussian_model = models[np.argmax(scores)]\n",
    "n_states = gaussian_model.n_components\n",
    "print(f'The best model had a score of {max(scores)} and {n_states} '\n",
    "      'states')\n",
    "predicted_states = gaussian_model.predict(X)\n",
    "print(predicted_states)"
   ]
  },
  {
   "cell_type": "code",
   "execution_count": 26,
   "id": "53e386b8",
   "metadata": {},
   "outputs": [
    {
     "name": "stderr",
     "output_type": "stream",
     "text": [
      "LP: -73.9: 100%|█████████████████████████████| 100/100 [00:00<00:00, 275.12it/s]\n"
     ]
    }
   ],
   "source": [
    "num_states = 2\n",
    "obs_dim = 3\n",
    "obs_model = \"gaussian\"\n",
    "N_iters = 1000\n",
    "fit_method = \"em\"\n",
    "\n",
    "hmm = ssm.HMM(num_states, obs_dim, observations=obs_model) \n",
    "hmm_lls = hmm.fit(X, method=fit_method, num_em_iters=N_iters, init_method=\"kmeans\")\n",
    "\n",
    "hmm_z = hmm.most_likely_states(X)"
   ]
  },
  {
   "cell_type": "code",
   "execution_count": 27,
   "id": "30821e54",
   "metadata": {},
   "outputs": [
    {
     "name": "stdout",
     "output_type": "stream",
     "text": [
      "<class 'numpy.ndarray'>\n",
      "<class 'numpy.ndarray'>\n"
     ]
    },
    {
     "data": {
      "image/png": "[encoded data removed]",
      "text/plain": [
       "<Figure size 800x400 with 1 Axes>"
      ]
     },
     "metadata": {},
     "output_type": "display_data"
    }
   ],
   "source": [
    "# predicted_states = 1 - predicted_states\n",
    "# plt.figure(figsize=(8, 4))\n",
    "# plt.subplot(311)\n",
    "# plt.imshow(predicted_states[None,:], aspect=\"auto\", cmap=cmap, vmin=0, vmax=len(colors)-1)\n",
    "# # plt.vlines(block_bounds, color=\"white\", ymin=0, ymax=0.25)\n",
    "# # plt.ylim(0, 0.5)\n",
    "# plt.xlim(0, time_bins)\n",
    "# plt.ylabel(\"HMMLearn\")\n",
    "# plt.yticks([])\n",
    "\n",
    "# hmm_z = 1 - hmm_z\n",
    "# plt.figure(figsize=(8, 4))\n",
    "# plt.subplot(312)\n",
    "# plt.imshow(hmm_z[None,:], aspect=\"auto\", cmap=cmap, vmin=0, vmax=len(colors)-1)\n",
    "# # plt.vlines(block_bounds, color=\"white\", ymin=0, ymax=0.25)\n",
    "# # plt.ylim(0, 0.5)\n",
    "# plt.xlim(0, time_bins)\n",
    "# plt.ylabel(\"GaussianHMM\")\n",
    "# plt.yticks([])\n",
    "\n",
    "hist_plot = np.array([-1 if state == 0 else state for state in hist_predicted_states])\n",
    "print(type(hist_plot))\n",
    "print(type(hist_predicted_states))\n",
    "\n",
    "plt.figure(figsize=(8, 4))\n",
    "plt.subplot(311)\n",
    "plt.imshow(hist_predicted_states[None,:], aspect=\"auto\", cmap=cmap)\n",
    "# plt.vlines(block_bounds, color=\"white\", ymin=0, ymax=0.25)\n",
    "# plt.ylim(0, 0.5)\n",
    "plt.xlim(0, time_bins)\n",
    "\n",
    "plt.ylabel(\"histHMM\")\n",
    "plt.yticks([])\n",
    "\n",
    "plt.savefig(f'/Users/johnzhou/Desktop/{mouse_name}_predicted_states.pdf', format='pdf')"
   ]
  },
  {
   "cell_type": "code",
   "execution_count": 28,
   "id": "0b29ce54",
   "metadata": {},
   "outputs": [
    {
     "name": "stdout",
     "output_type": "stream",
     "text": [
      "12\n",
      "[12, 21, 24, 40, 53, 66, 80, 94, 108, 121, 136, 151]\n",
      "[0, 12, 21, 24, 40, 53, 66, 80, 94, 108, 121, 136, 151]\n",
      "[(0, 12), (12, 21), (21, 24), (24, 40), (40, 53), (53, 66), (66, 80), (80, 94), (94, 108), (108, 121), (121, 136), (136, 151)]\n",
      "[0 0 0 0 0 0 0 0 0 0 0 0 0 1 1 1 0 1 1 0 0 0 0 0 0 0 0 0 1 1 1 1 1 1 0 1 1\n",
      " 0 0 1 0 0 0 1 0 1 1 1 1 1 1 1 1 0 1 1 1 1 1 1 1 1 0 0 1 0 0 0 0 0 0 1 1 1\n",
      " 1 1 1 1 1 1 1 1 1 0 1 1 1 0 0 0 1 1 0 0 0 1 1 1 1 1 1 1 1 1 1 1 1 1 1 1 1\n",
      " 1 1 0 1 1 1 1 1 1 1 1 1 1 1 1 1 1 1 0 1 1 1 0 1 1 0 0 1 1 0 1 1 1 1 1 1 1\n",
      " 1 1 1]\n",
      "[0.0, 0.5555555555555556, 0.0, 0.5625, 0.6923076923076923, 0.6923076923076923, 0.6428571428571429, 0.5714285714285714, 0.9285714285714286, 0.9230769230769231, 0.8666666666666667, 0.8]\n"
     ]
    },
    {
     "data": {
      "image/png": "[encoded data removed]",
      "text/plain": [
       "<Figure size 640x480 with 1 Axes>"
      ]
     },
     "metadata": {},
     "output_type": "display_data"
    }
   ],
   "source": [
    "print(len(block_bounds))\n",
    "print(block_bounds)\n",
    "\n",
    "new_bounds = [0] + block_bounds\n",
    "new_bounds = list(np.unique(np.array(new_bounds)))\n",
    "print(list(np.unique(np.array(new_bounds))))\n",
    "indices = [(new_bounds[i], new_bounds[i+1]) for i in range(len(new_bounds) - 1)]\n",
    "print(indices)\n",
    "\n",
    "print(hist_predicted_states)\n",
    "percent_mb = [np.mean(hist_predicted_states[start:end]) for start, end in indices]\n",
    "print(percent_mb)\n",
    "plt.figure()\n",
    "plt.ylim([0, 1])\n",
    "plt.plot(percent_mb)\n",
    "\n",
    "plt.savefig(f'/Users/johnzhou/Desktop/{mouse_name}_mb_percentage.eps', format='eps')"
   ]
  },
  {
   "cell_type": "code",
   "execution_count": 29,
   "id": "eceb1f10",
   "metadata": {},
   "outputs": [],
   "source": [
    "def visualize_sigmoids(sigmoid_params, idxs):\n",
    "    params_list = sigmoid_params[idxs.flatten(), ...]\n",
    "    plot_sigmoids(epsilon_sigmoid, params_list)\n",
    "    \n",
    "def visualize_regimes(state_preds, sigmoid_params):\n",
    "    plt.figure()\n",
    "    plt.subplot(211)\n",
    "    idxs_0 = np.argwhere(state_preds == 0)\n",
    "    visualize_sigmoids(sigmoid_params, idxs_0)\n",
    "    plt.figure()\n",
    "    plt.subplot(212)\n",
    "    idxs_1 = np.argwhere(state_preds == 1)\n",
    "    visualize_sigmoids(sigmoid_params, idxs_1)"
   ]
  },
  {
   "cell_type": "code",
   "execution_count": 30,
   "id": "22b9ec95",
   "metadata": {},
   "outputs": [
    {
     "data": {
      "image/png": "[encoded data removed]",
      "text/plain": [
       "<Figure size 640x480 with 1 Axes>"
      ]
     },
     "metadata": {},
     "output_type": "display_data"
    },
    {
     "data": {
      "image/png": "[encoded data removed]",
      "text/plain": [
       "<Figure size 640x480 with 1 Axes>"
      ]
     },
     "metadata": {},
     "output_type": "display_data"
    }
   ],
   "source": [
    "visualize_regimes(predicted_states, np.squeeze(X))"
   ]
  },
  {
   "cell_type": "code",
   "execution_count": null,
   "id": "6c037e94",
   "metadata": {},
   "outputs": [],
   "source": [
    "visualize_regimes(hmm_z, np.squeeze(X))"
   ]
  },
  {
   "cell_type": "code",
   "execution_count": null,
   "id": "bba53d0a",
   "metadata": {},
   "outputs": [],
   "source": [
    "visualize_regimes(hist_predicted_states, np.squeeze(X))\n",
    "print(hist_model.transmat_)\n",
    "print(np.sum(hist_predicted_states)/hist_predicted_states.size)"
   ]
  },
  {
   "cell_type": "code",
   "execution_count": null,
   "id": "667a8ea7",
   "metadata": {},
   "outputs": [],
   "source": [
    "true_transition_mat = transmat\n",
    "learned_transition_mat = hist_model.transmat_\n",
    "print(true_transition_mat)\n",
    "print(learned_transition_mat)\n",
    "\n",
    "fig = plt.figure(figsize=(8, 4))\n",
    "plt.subplot(121)\n",
    "im = plt.imshow(true_transition_mat, cmap='gray')\n",
    "plt.title(\"True Transition Matrix\")\n",
    "\n",
    "plt.subplot(122)\n",
    "im = plt.imshow(learned_transition_mat, cmap='gray')\n",
    "plt.title(\"Learned Transition Matrix\")\n",
    "\n",
    "cbar_ax = fig.add_axes([0.95, 0.15, 0.05, 0.7])\n",
    "fig.colorbar(im, cax=cbar_ax)\n",
    "plt.show()"
   ]
  },
  {
   "cell_type": "code",
   "execution_count": null,
   "id": "f0fffeb0",
   "metadata": {},
   "outputs": [],
   "source": []
  },
  {
   "cell_type": "code",
   "execution_count": null,
   "id": "98094a8f",
   "metadata": {},
   "outputs": [],
   "source": []
  }
 ],
 "metadata": {
  "kernelspec": {
   "display_name": "Python 3 (ipykernel)",
   "language": "python",
   "name": "python3"
  },
  "language_info": {
   "codemirror_mode": {
    "name": "ipython",
    "version": 3
   },
   "file_extension": ".py",
   "mimetype": "text/x-python",
   "name": "python",
   "nbconvert_exporter": "python",
   "pygments_lexer": "ipython3",
   "version": "3.10.8"
  }
 },
 "nbformat": 4,
 "nbformat_minor": 5
}
