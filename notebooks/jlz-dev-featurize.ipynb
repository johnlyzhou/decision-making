{
 "cells": [
  {
   "cell_type": "code",
   "execution_count": 1,
   "id": "79953339",
   "metadata": {},
   "outputs": [],
   "source": [
    "repo_path = \"/Users/johnzhou/research/decision-making\"\n",
    "expt_dir = f\"{repo_path}/experiments\"\n",
    "data_dir = f\"{repo_path}/data\""
   ]
  },
  {
   "cell_type": "code",
   "execution_count": 2,
   "id": "5c977cd0",
   "metadata": {},
   "outputs": [],
   "source": [
    "import sys\n",
    "sys.path.append(repo_path)"
   ]
  },
  {
   "cell_type": "code",
   "execution_count": 3,
   "id": "b548b8db",
   "metadata": {},
   "outputs": [],
   "source": [
    "import numpy as np\n",
    "import matplotlib.pyplot as plt\n",
    "from omegaconf import OmegaConf\n",
    "from sklearn.model_selection import StratifiedKFold, train_test_split\n",
    "import torch\n",
    "from src.data.blocks import RealDataset, SynthDataset\n",
    "from src.models.blockvae import BlockVAE\n",
    "from src.models.agentnet import AgentNet\n",
    "from src.models.sigmoidnet import SigmoidNet\n",
    "from src.models.find_shapes import conv1d_shape, convtranspose1d_shape\n",
    "from src.models.train import train\n",
    "from src.features.build_features import sigmoid"
   ]
  },
  {
   "cell_type": "code",
   "execution_count": 4,
   "id": "ea2c9d78",
   "metadata": {},
   "outputs": [],
   "source": [
    "vae_config = OmegaConf.create({\n",
    "    \"name\": \"test_expt\",\n",
    "    \"random_seed\": 4995,\n",
    "    \"model\": {\n",
    "        \"in_channels\": 1,\n",
    "        \"conv_encoder_layers\": [[16, 3, 2], [8, 3, 2], [4, 1, 1]],\n",
    "        \"conv_decoder_layers\": [[8, 3, 2, 0], [4, 2, 1, 0], [1, 1, 2, 0]],\n",
    "        \"encoder_output_dim\": [4, 3],\n",
    "        \"latent_dim\": 6,\n",
    "        \"use_batch_norm\": True\n",
    "    },\n",
    "    \"learning_rate\": 1e-4,\n",
    "    \"data\": {\n",
    "        \"feature_path\": f\"{repo_path}/data/synth/sim_features.npy\",\n",
    "        \"label_path\": f\"{repo_path}/data/synth/sim_labels.npy\",\n",
    "        \"train_proportion\": 0.8,\n",
    "        \"train_batch_size\": 100,\n",
    "        \"val_batch_size\": 100\n",
    "    },\n",
    "    \"trainer\": {\n",
    "        \"gpus\": 0,\n",
    "        \"max_epochs\": 100\n",
    "    },\n",
    "\n",
    "})\n",
    "\n",
    "OmegaConf.save(config=vae_config, f=f\"{repo_path}/configs/model_configs/vae_train.yaml\")"
   ]
  },
  {
   "cell_type": "code",
   "execution_count": 5,
   "id": "73611820",
   "metadata": {},
   "outputs": [
    {
     "name": "stdout",
     "output_type": "stream",
     "text": [
      "{'name': 'test_expt', 'random_seed': 4995, 'model': {'in_channels': 1, 'conv_encoder_layers': [[16, 3, 2], [8, 3, 2], [4, 1, 1]], 'conv_decoder_layers': [[8, 3, 2, 0], [4, 2, 1, 0], [1, 1, 2, 0]], 'encoder_output_dim': [4, 3], 'latent_dim': 6, 'use_batch_norm': True}, 'learning_rate': 0.0001, 'data': {'feature_path': '/Users/johnzhou/research/decision-making/data/synth/sim_features.npy', 'label_path': '/Users/johnzhou/research/decision-making/data/synth/sim_labels.npy', 'train_proportion': 0.8, 'train_batch_size': 100, 'val_batch_size': 100}, 'trainer': {'gpus': 0, 'max_epochs': 100}}\n"
     ]
    }
   ],
   "source": [
    "print(OmegaConf.to_container(vae_config))"
   ]
  },
  {
   "cell_type": "code",
   "execution_count": 6,
   "id": "d03c9ab8",
   "metadata": {},
   "outputs": [],
   "source": [
    "classifier_config = OmegaConf.create({\n",
    "    \"name\": \"test_expt\",\n",
    "    \"random_seed\": 4995,\n",
    "    \"model\": {\n",
    "        \"in_features\": 15,\n",
    "        \"linear_layers\": [8],\n",
    "        \"use_batch_norm\": True\n",
    "    },\n",
    "    \"learning_rate\": 1e-4,\n",
    "    \"data\": {\n",
    "        \"feature_path\": f\"{repo_path}/data/synth/sim_features.npy\",\n",
    "        \"label_path\": f\"{repo_path}/data/synth/sim_labels.npy\",\n",
    "        \"train_proportion\": 0.8,\n",
    "        \"train_batch_size\": 100,\n",
    "        \"val_batch_size\": 100\n",
    "    },\n",
    "    \"trainer\": {\n",
    "        \"gpus\": 0,\n",
    "        \"max_epochs\": 100\n",
    "    },\n",
    "\n",
    "})\n",
    "\n",
    "OmegaConf.save(config=classifier_config, f=f\"{repo_path}/configs/model_configs/classifier_train.yaml\")"
   ]
  },
  {
   "cell_type": "code",
   "execution_count": 7,
   "id": "dad76c3d",
   "metadata": {},
   "outputs": [
    {
     "data": {
      "text/html": [
       "\n",
       "      <iframe id=\"tensorboard-frame-64222bf1e41a8ee6\" width=\"100%\" height=\"800\" frameborder=\"0\">\n",
       "      </iframe>\n",
       "      <script>\n",
       "        (function() {\n",
       "          const frame = document.getElementById(\"tensorboard-frame-64222bf1e41a8ee6\");\n",
       "          const url = new URL(\"/\", window.location);\n",
       "          const port = 6006;\n",
       "          if (port) {\n",
       "            url.port = port;\n",
       "          }\n",
       "          frame.src = url;\n",
       "        })();\n",
       "      </script>\n",
       "    "
      ],
      "text/plain": [
       "<IPython.core.display.HTML object>"
      ]
     },
     "metadata": {},
     "output_type": "display_data"
    }
   ],
   "source": [
    "%reload_ext tensorboard\n",
    "%tensorboard --logdir=lightning_logs/"
   ]
  },
  {
   "cell_type": "code",
   "execution_count": 8,
   "id": "37a85ddd",
   "metadata": {},
   "outputs": [
    {
     "name": "stderr",
     "output_type": "stream",
     "text": [
      "Global seed set to 4995\n",
      "GPU available: False, used: False\n",
      "TPU available: False, using: 0 TPU cores\n",
      "IPU available: False, using: 0 IPUs\n",
      "\n",
      "  | Name  | Type             | Params\n",
      "-------------------------------------------\n",
      "0 | model | LinearClassifier | 157   \n",
      "-------------------------------------------\n",
      "157       Trainable params\n",
      "0         Non-trainable params\n",
      "157       Total params\n",
      "0.001     Total estimated model params size (MB)\n",
      "/Users/johnzhou/anaconda3/envs/yass/lib/python3.7/site-packages/pytorch_lightning/callbacks/model_checkpoint.py:623: UserWarning: Checkpoint directory /Users/johnzhou/research/decision-making/experiments/test_expt exists and is not empty.\n",
      "  rank_zero_warn(f\"Checkpoint directory {dirpath} exists and is not empty.\")\n"
     ]
    },
    {
     "name": "stdout",
     "output_type": "stream",
     "text": [
      "{'in_features': 15, 'linear_layers': [8], 'use_batch_norm': True}\n",
      "LinearClassifier(\n",
      "  (layers): Sequential(\n",
      "    (0): Linear(in_features=15, out_features=8, bias=True)\n",
      "    (1): LeakyReLU(negative_slope=0.05)\n",
      "    (2): BatchNorm1d(1, eps=1e-05, momentum=0.1, affine=True, track_running_stats=True)\n",
      "    (3): Linear(in_features=8, out_features=3, bias=True)\n",
      "  )\n",
      ")\n",
      "Validation sanity check:   0%|                            | 0/2 [00:00<?, ?it/s]"
     ]
    },
    {
     "name": "stderr",
     "output_type": "stream",
     "text": [
      "/Users/johnzhou/anaconda3/envs/yass/lib/python3.7/site-packages/pytorch_lightning/trainer/data_loading.py:117: UserWarning: The dataloader, val_dataloader 0, does not have many workers which may be a bottleneck. Consider increasing the value of the `num_workers` argument` (try 4 which is the number of cpus on this machine) in the `DataLoader` init to improve performance.\n",
      "  f\"The dataloader, {name}, does not have many workers which may be a bottleneck.\"\n"
     ]
    },
    {
     "name": "stdout",
     "output_type": "stream",
     "text": [
      "                                                                                "
     ]
    },
    {
     "name": "stderr",
     "output_type": "stream",
     "text": [
      "Global seed set to 4995\n",
      "/Users/johnzhou/anaconda3/envs/yass/lib/python3.7/site-packages/pytorch_lightning/trainer/data_loading.py:117: UserWarning: The dataloader, train_dataloader, does not have many workers which may be a bottleneck. Consider increasing the value of the `num_workers` argument` (try 4 which is the number of cpus on this machine) in the `DataLoader` init to improve performance.\n",
      "  f\"The dataloader, {name}, does not have many workers which may be a bottleneck.\"\n"
     ]
    },
    {
     "name": "stdout",
     "output_type": "stream",
     "text": [
      "Epoch 0:  80%|████████▊  | 800/1000 [00:03<00:00, 215.25it/s, loss=nan, v_num=4]\n",
      "Validating: 0it [00:00, ?it/s]\u001b[A\n",
      "Epoch 0:  84%|█████████▏ | 840/1000 [00:03<00:00, 222.66it/s, loss=nan, v_num=4]\u001b[A\n",
      "Epoch 0:  90%|█████████▉ | 900/1000 [00:03<00:00, 231.79it/s, loss=nan, v_num=4]\u001b[A\n",
      "Epoch 0:  96%|██████████▌| 960/1000 [00:03<00:00, 240.51it/s, loss=nan, v_num=4]\u001b[A\n",
      "Epoch 0: 100%|█| 1000/1000 [00:04<00:00, 243.79it/s, loss=nan, v_num=4, val_loss\u001b[A\n",
      "Epoch 0: 100%|█| 1000/1000 [00:04<00:00, 242.76it/s, loss=nan, v_num=4, val_loss\u001b[A\n"
     ]
    },
    {
     "name": "stderr",
     "output_type": "stream",
     "text": [
      "/Users/johnzhou/anaconda3/envs/yass/lib/python3.7/site-packages/pytorch_lightning/trainer/trainer.py:1394: UserWarning: `.validate(ckpt_path=None)` was called without a model. The best model of the previous `fit` call will be used. You can pass `validate(ckpt_path='best')` to use and best model checkpoint and avoid this warning or `ckpt_path=trainer.checkpoint_callback.last_model_path` to use the last model.\n",
      "  f\"`.{fn}(ckpt_path=None)` was called without a model.\"\n",
      "Restoring states from the checkpoint path at /Users/johnzhou/research/decision-making/experiments/test_expt/model-v1.ckpt\n",
      "Loaded model weights from checkpoint at /Users/johnzhou/research/decision-making/experiments/test_expt/model-v1.ckpt\n"
     ]
    },
    {
     "name": "stdout",
     "output_type": "stream",
     "text": [
      "\n",
      "Validating: 0it [00:00, ?it/s]\u001b[A\n",
      "Validating:   0%|                                       | 0/200 [00:00<?, ?it/s]\u001b[A\n",
      "Validating:  30%|████████▋                    | 60/200 [00:00<00:00, 497.85it/s]\u001b[A\n",
      "Validating:  60%|████████████████▊           | 120/200 [00:00<00:00, 531.44it/s]\u001b[A\n",
      "Validating: 100%|████████████████████████████| 200/200 [00:00<00:00, 592.14it/s]\u001b[A--------------------------------------------------------------------------------\n",
      "DATALOADER:0 VALIDATE RESULTS\n",
      "{'val_loss': nan}\n",
      "--------------------------------------------------------------------------------\n",
      "\n",
      "                                                                                \u001b[A"
     ]
    }
   ],
   "source": [
    "system, trainer = train(\n",
    "    SigmoidNet, \n",
    "    OmegaConf.to_container(classifier_config),\n",
    "    experiment_dir=expt_dir,\n",
    "    checkpoint_name=\"model\")\n",
    "val_losses = trainer.validate()"
   ]
  },
  {
   "cell_type": "code",
   "execution_count": 9,
   "id": "28abf279",
   "metadata": {},
   "outputs": [
    {
     "name": "stdout",
     "output_type": "stream",
     "text": [
      "{'in_features': 15, 'linear_layers': [8], 'use_batch_norm': True}\n",
      "LinearClassifier(\n",
      "  (layers): Sequential(\n",
      "    (0): Linear(in_features=15, out_features=8, bias=True)\n",
      "    (1): LeakyReLU(negative_slope=0.05)\n",
      "    (2): BatchNorm1d(1, eps=1e-05, momentum=0.1, affine=True, track_running_stats=True)\n",
      "    (3): Linear(in_features=8, out_features=3, bias=True)\n",
      "  )\n",
      ")\n",
      "{'in_features': 15, 'linear_layers': [8], 'use_batch_norm': True}\n",
      "LinearClassifier(\n",
      "  (layers): Sequential(\n",
      "    (0): Linear(in_features=15, out_features=8, bias=True)\n",
      "    (1): LeakyReLU(negative_slope=0.05)\n",
      "    (2): BatchNorm1d(1, eps=1e-05, momentum=0.1, affine=True, track_running_stats=True)\n",
      "    (3): Linear(in_features=8, out_features=3, bias=True)\n",
      "  )\n",
      ")\n"
     ]
    }
   ],
   "source": [
    "net = SigmoidNet(OmegaConf.to_container(classifier_config))\n",
    "model = net.load_from_checkpoint(f\"{expt_dir}/test_expt/model-v1.ckpt\")"
   ]
  },
  {
   "cell_type": "code",
   "execution_count": 10,
   "id": "147ff7e8",
   "metadata": {},
   "outputs": [
    {
     "name": "stdout",
     "output_type": "stream",
     "text": [
      "(100000, 15)\n"
     ]
    }
   ],
   "source": [
    "blocks = np.load(f\"{data_dir}/synth/sim_features.npy\")\n",
    "print(blocks.shape)"
   ]
  },
  {
   "cell_type": "code",
   "execution_count": 15,
   "id": "45b4d3ec",
   "metadata": {},
   "outputs": [
    {
     "name": "stdout",
     "output_type": "stream",
     "text": [
      "{'in_features': 15, 'linear_layers': [64, 32, 16, 8], 'use_batch_norm': True}\n",
      "LinearClassifier(\n",
      "  (layers): Sequential(\n",
      "    (0): Linear(in_features=15, out_features=64, bias=True)\n",
      "    (1): LeakyReLU(negative_slope=0.05)\n",
      "    (2): BatchNorm1d(1, eps=1e-05, momentum=0.1, affine=True, track_running_stats=True)\n",
      "    (3): Linear(in_features=64, out_features=32, bias=True)\n",
      "    (4): LeakyReLU(negative_slope=0.05)\n",
      "    (5): BatchNorm1d(1, eps=1e-05, momentum=0.1, affine=True, track_running_stats=True)\n",
      "    (6): Linear(in_features=32, out_features=16, bias=True)\n",
      "    (7): LeakyReLU(negative_slope=0.05)\n",
      "    (8): BatchNorm1d(1, eps=1e-05, momentum=0.1, affine=True, track_running_stats=True)\n",
      "    (9): Linear(in_features=16, out_features=8, bias=True)\n",
      "    (10): LeakyReLU(negative_slope=0.05)\n",
      "    (11): BatchNorm1d(1, eps=1e-05, momentum=0.1, affine=True, track_running_stats=True)\n",
      "    (12): Linear(in_features=8, out_features=3, bias=True)\n",
      "  )\n",
      ")\n",
      "torch.Size([100000, 3])\n"
     ]
    }
   ],
   "source": [
    "X_fname = f\"{data_dir}/synth/sim_features.npy\"\n",
    "model_fname = f\"{expt_dir}/test_expt/sigmoid.ckpt\"\n",
    "system = SigmoidNet\n",
    "\n",
    "model = system.load_from_checkpoint(model_fname)\n",
    "\n",
    "params = torch.squeeze(model(torch.unsqueeze(torch.from_numpy(np.load(X_fname)).float(), 1)))\n",
    "print(params.shape)"
   ]
  },
  {
   "cell_type": "code",
   "execution_count": 19,
   "id": "e73648d9",
   "metadata": {},
   "outputs": [
    {
     "data": {
      "image/png": "[encoded data removed]",
      "text/plain": [
       "<Figure size 432x288 with 1 Axes>"
      ]
     },
     "metadata": {
      "needs_background": "light"
     },
     "output_type": "display_data"
    },
    {
     "data": {
      "image/png": "[encoded data removed]",
      "text/plain": [
       "<Figure size 432x288 with 1 Axes>"
      ]
     },
     "metadata": {
      "needs_background": "light"
     },
     "output_type": "display_data"
    },
    {
     "data": {
      "image/png": "[encoded data removed]",
      "text/plain": [
       "<Figure size 432x288 with 1 Axes>"
      ]
     },
     "metadata": {
      "needs_background": "light"
     },
     "output_type": "display_data"
    },
    {
     "data": {
      "image/png": "[encoded data removed]",
      "text/plain": [
       "<Figure size 432x288 with 1 Axes>"
      ]
     },
     "metadata": {
      "needs_background": "light"
     },
     "output_type": "display_data"
    },
    {
     "data": {
      "image/png": "[encoded data removed]",
      "text/plain": [
       "<Figure size 432x288 with 1 Axes>"
      ]
     },
     "metadata": {
      "needs_background": "light"
     },
     "output_type": "display_data"
    }
   ],
   "source": [
    "block_idxs = range(10000, 10500, 100)\n",
    "\n",
    "for block_idx in block_idxs:\n",
    "    block_params = params[block_idx, :].detach().numpy()\n",
    "    block = blocks[block_idx, :]\n",
    "    x_obs = range(15)\n",
    "\n",
    "    plt.plot(np.linspace(0, block.size, num=1000),\n",
    "             sigmoid(np.linspace(0, block.size, num=1000), *block_params), 'r-',\n",
    "             label='fit: eps=%5.3f, k=%5.3f, x0=%5.3f' % tuple(block_params))\n",
    "    plt.legend()\n",
    "    plt.scatter(x_obs, block)\n",
    "    plt.show()"
   ]
  },
  {
   "cell_type": "code",
   "execution_count": null,
   "id": "5aceacb7",
   "metadata": {},
   "outputs": [],
   "source": []
  }
 ],
 "metadata": {
  "kernelspec": {
   "display_name": "Python 3 (ipykernel)",
   "language": "python",
   "name": "python3"
  },
  "language_info": {
   "codemirror_mode": {
    "name": "ipython",
    "version": 3
   },
   "file_extension": ".py",
   "mimetype": "text/x-python",
   "name": "python",
   "nbconvert_exporter": "python",
   "pygments_lexer": "ipython3",
   "version": "3.7.11"
  }
 },
 "nbformat": 4,
 "nbformat_minor": 5
}
