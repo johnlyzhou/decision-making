{
 "cells": [
  {
   "cell_type": "code",
   "execution_count": 7,
   "id": "14eaa4c1",
   "metadata": {},
   "outputs": [],
   "source": [
    "import numpy as np\n",
    "import ssm\n",
    "import matplotlib.pyplot as plt\n",
    "\n",
    "from run import run_switching_experiment\n",
    "from src.data.experiment_data import ExperimentData\n",
    "from src.features.fit_curves import get_sigmoid_feats\n",
    "from src.features.losses import mse_loss"
   ]
  },
  {
   "cell_type": "code",
   "execution_count": 3,
   "id": "32739c12",
   "metadata": {},
   "outputs": [
    {
     "name": "stderr",
     "output_type": "stream",
     "text": [
      "100%|██████████████████████████████████████████| 50/50 [00:00<00:00, 180.01it/s]\n"
     ]
    }
   ],
   "source": [
    "trans_matrix = np.array([[0.70, 0.30],\n",
    "                         [0.30, 0.70]])\n",
    "trunc_actions, state_history = run_switching_experiment(trans_matrix)\n",
    "\n",
    "sigmoid_params = get_sigmoid_feats(trunc_actions, mse_loss, plot=False)"
   ]
  },
  {
   "cell_type": "code",
   "execution_count": 4,
   "id": "cebd03a2",
   "metadata": {},
   "outputs": [
    {
     "name": "stdout",
     "output_type": "stream",
     "text": [
      "[[  0.12824946   4.           1.4999713 ]\n",
      " [  0.           0.84871771   1.41240871]\n",
      " [  0.12833462   4.           0.49840986]\n",
      " [  0.26967051   4.           0.49746791]\n",
      " [  0.39999018   0.90040913 -16.86308885]\n",
      " [  0.           4.           7.50000001]\n",
      " [  0.34034753   4.           0.49686908]\n",
      " [  0.           4.           0.49996314]\n",
      " [  0.05752864   4.           1.49998994]\n",
      " [  0.           4.           0.49996314]\n",
      " [  0.           4.           0.49996314]\n",
      " [  0.19899936   4.           0.49799404]\n",
      " [  0.           0.33293793   1.69001419]\n",
      " [  0.           4.           0.49996314]\n",
      " [  0.           4.           0.49996314]\n",
      " [  0.           4.           0.49996314]\n",
      " [  0.           4.           0.49996314]\n",
      " [  0.           4.           0.49996314]\n",
      " [  0.26967686   4.           0.49728885]\n",
      " [  0.12833462   4.           0.49840984]\n",
      " [  0.08009214   0.92334034   1.39727817]\n",
      " [  0.05766157   4.           0.4991774 ]\n",
      " [  0.           4.           3.50000001]\n",
      " [  0.           0.55479568   1.3539253 ]\n",
      " [  0.05766156   4.           0.4991774 ]\n",
      " [  0.           0.16681849   0.52136737]\n",
      " [  0.12824286   4.           1.50018994]\n",
      " [  0.05752656   4.           2.49999959]\n",
      " [  0.19900575   4.           0.49779748]\n",
      " [  0.19900584   4.           0.49779386]\n",
      " [  0.02221564   0.06284742  -1.97319287]\n",
      " [  0.26967051   4.           0.49746788]\n",
      " [  0.           4.           0.49996314]\n",
      " [  0.           4.           0.49996314]\n",
      " [  0.           4.           0.49996314]\n",
      " [  0.           0.90922082   2.48809955]\n",
      " [  0.           4.           5.5       ]\n",
      " [  0.12824779   4.           4.49999881]\n",
      " [  0.05752899   4.           1.49998557]\n",
      " [  0.12824783   4.           5.50000404]\n",
      " [  0.08534314   1.08983673   2.47347905]\n",
      " [  0.12824789   4.           2.49999948]\n",
      " [  0.05766157   4.           0.49917741]\n",
      " [  0.05766157   4.           0.49917741]\n",
      " [  0.           0.84871771   1.41240871]\n",
      " [  0.           0.84871771   1.41240871]\n",
      " [  0.17803378   1.27426746   2.46678716]\n",
      " [  0.           4.           2.50000001]\n",
      " [  0.26967579   4.           0.49729226]\n",
      " [  0.19896915   4.           2.50000077]]\n"
     ]
    }
   ],
   "source": [
    "print(sigmoid_params)"
   ]
  },
  {
   "cell_type": "code",
   "execution_count": 1,
   "id": "a8032b91",
   "metadata": {},
   "outputs": [],
   "source": [
    "# Set the parameters of the GLM-HMM\n",
    "num_states = 3        # number of discrete states\n",
    "obs_dim = 1           # number of observed dimensions\n",
    "num_categories = 2    # number of categories for output\n",
    "input_dim = 2         # input dimensions"
   ]
  },
  {
   "cell_type": "code",
   "execution_count": 9,
   "id": "9dddc97e",
   "metadata": {},
   "outputs": [],
   "source": [
    "expt_name = \"new_run\"\n",
    "repo_path = \"/Users/johnzhou/research/decision-making\"\n",
    "bigboy = ExperimentData(expt_name, repo_path)"
   ]
  },
  {
   "cell_type": "code",
   "execution_count": 11,
   "id": "eaed28d0",
   "metadata": {},
   "outputs": [
    {
     "name": "stdout",
     "output_type": "stream",
     "text": [
      "LinearEmbedder(\n",
      "  (layers): Sequential(\n",
      "    (0): Linear(in_features=3, out_features=32, bias=True)\n",
      "    (1): LeakyReLU(negative_slope=0.05)\n",
      "    (2): Linear(in_features=32, out_features=8, bias=True)\n",
      "    (3): LeakyReLU(negative_slope=0.05)\n",
      "    (4): Linear(in_features=8, out_features=4, bias=True)\n",
      "    (5): LeakyReLU(negative_slope=0.05)\n",
      "    (6): Linear(in_features=4, out_features=2, bias=True)\n",
      "  )\n",
      ")\n",
      "LinearEmbedder(\n",
      "  (layers): Sequential(\n",
      "    (0): Linear(in_features=3, out_features=32, bias=True)\n",
      "    (1): LeakyReLU(negative_slope=0.05)\n",
      "    (2): Linear(in_features=32, out_features=8, bias=True)\n",
      "    (3): LeakyReLU(negative_slope=0.05)\n",
      "    (4): Linear(in_features=8, out_features=4, bias=True)\n",
      "    (5): LeakyReLU(negative_slope=0.05)\n",
      "    (6): Linear(in_features=4, out_features=2, bias=True)\n",
      "  )\n",
      ")\n"
     ]
    }
   ],
   "source": [
    "config = OmegaConf.create({\n",
    "    \"name\": expt_name,\n",
    "    \"random_seed\": 4995,\n",
    "    \"model\": {\n",
    "        \"in_features\": 3,\n",
    "        \"linear_layers\": [32, 8, 4],\n",
    "        \"use_batch_norm\": False\n",
    "    },\n",
    "    \"learning_rate\": 1e-4,\n",
    "    \"data\": {\n",
    "        \"feature_path\": f\"{bigboy.data_path}/modeling_features.npy\",\n",
    "        \"label_path\": f\"{bigboy.data_path}/modeling_labels.npy\",\n",
    "        \"train_proportion\": 0.8,\n",
    "        \"train_batch_size\": 128,\n",
    "        \"val_batch_size\": 128\n",
    "    },\n",
    "    \"trainer\": {\n",
    "        \"gpus\": 0,\n",
    "        \"max_epochs\": 1000\n",
    "    },\n",
    "\n",
    "})\n",
    "\n",
    "X_fname = f\"{bigboy.data_path}/modeling_features.npy\"\n",
    "model_fname = f\"{bigboy.data_path}/models/model-v1.ckpt\"\n",
    "system = SigmoidNet(config)\n",
    "\n",
    "model = system.load_from_checkpoint(model_fname)"
   ]
  },
  {
   "cell_type": "code",
   "execution_count": 28,
   "id": "3cb212ba",
   "metadata": {},
   "outputs": [
    {
     "name": "stdout",
     "output_type": "stream",
     "text": [
      "(92045, 2)\n"
     ]
    },
    {
     "data": {
      "image/png": "[encoded data removed]",
      "text/plain": [
       "<Figure size 640x480 with 1 Axes>"
      ]
     },
     "metadata": {},
     "output_type": "display_data"
    }
   ],
   "source": [
    "X_embedded_mse = torch.squeeze(model(torch.unsqueeze(torch.from_numpy(np.load(X_fname)).float(), 1))).detach().numpy()\n",
    "print(X_embedded_mse.shape)\n",
    "\n",
    "plt.figure()\n",
    "mse_boundary = 42307\n",
    "\n",
    "mf = plt.scatter(X_embedded_mse[:mse_boundary, 0], X_embedded_mse[:mse_boundary, 1], color='blue', s=20)\n",
    "mb = plt.scatter(X_embedded_mse[mse_boundary:, 0], X_embedded_mse[mse_boundary:, 1], color='red', s=10)\n",
    "extra = plt.scatter(b[:, 0], b[:, 1], color='cyan', s=5)\n",
    "\n",
    "plt.legend((mf, mb), ('Synth MF', 'Synth MB'), loc='upper right')\n",
    "\n",
    "border = -0.25\n",
    "plt.vlines(border, -.55, -.2)\n",
    "\n",
    "plt.show()"
   ]
  },
  {
   "cell_type": "markdown",
   "id": "ce760626",
   "metadata": {},
   "source": [
    "torch.unsqueeze(torch.from_numpy(np.load(X_fname)).float(), 1).shape"
   ]
  },
  {
   "cell_type": "code",
   "execution_count": 16,
   "id": "9497738c",
   "metadata": {},
   "outputs": [
    {
     "data": {
      "text/plain": [
       "(50, 3)"
      ]
     },
     "execution_count": 16,
     "metadata": {},
     "output_type": "execute_result"
    }
   ],
   "source": [
    "sigmoid_params.shape"
   ]
  },
  {
   "cell_type": "code",
   "execution_count": 23,
   "id": "142232d8",
   "metadata": {},
   "outputs": [],
   "source": [
    "a = torch.unsqueeze(torch.from_numpy(sigmoid_params).float(), 1)"
   ]
  },
  {
   "cell_type": "code",
   "execution_count": 25,
   "id": "e9713c53",
   "metadata": {},
   "outputs": [],
   "source": [
    "b = torch.squeeze(model(a)).detach().numpy()"
   ]
  },
  {
   "cell_type": "code",
   "execution_count": null,
   "id": "a49eaf45",
   "metadata": {},
   "outputs": [],
   "source": []
  }
 ],
 "metadata": {
  "kernelspec": {
   "display_name": "Python 3 (ipykernel)",
   "language": "python",
   "name": "python3"
  },
  "language_info": {
   "codemirror_mode": {
    "name": "ipython",
    "version": 3
   },
   "file_extension": ".py",
   "mimetype": "text/x-python",
   "name": "python",
   "nbconvert_exporter": "python",
   "pygments_lexer": "ipython3",
   "version": "3.10.4"
  }
 },
 "nbformat": 4,
 "nbformat_minor": 5
}
